{
 "cells": [
  {
   "cell_type": "markdown",
   "id": "916aa103",
   "metadata": {},
   "source": [
    "# Axial shuffling of foci\n",
    "\n",
    "To determine whether foci are genuinely associated with one another it can be informative to artificially shuffle segmented foci around the axial space and compare the obesrved and randomly-dirstibuted levels of colocalisation/proximity. \n",
    "\n",
    "\n",
    "## Data:\n",
    "Signal must have been segmented using the segmentation ImageJ macro to generate \"Nuclear_Mask\" files as well as foci labelmaps and axial masks for which users have assigned names. \n",
    "Axial shuffling requires two focus labelmaps, one which is shuffled around the axis mask, and another which remains static, the distance to which is measured from the shuffled foci. \n",
    "\n",
    "## Load dependencies:\n",
    "\n",
    "Install and load the packages used by this program, by setting the paths below to the directories where you saved the meiosis_toolkit packages. \n"
   ]
  },
  {
   "cell_type": "code",
   "execution_count": 1,
   "id": "4e53adac",
   "metadata": {},
   "outputs": [],
   "source": [
    "Meio_toolkit_path=\"Z:\\\\Meiosis Plugin Paper\\Methods in Molecular Biology - Meiosis image analysis\\\\Code for GitHub\\\\Python tools\\\\meiosis_toolkit\""
   ]
  },
  {
   "cell_type": "code",
   "execution_count": 2,
   "id": "5c9d517e",
   "metadata": {},
   "outputs": [],
   "source": [
    "import sys\n",
    "sys.path.append(Meio_toolkit_path)"
   ]
  },
  {
   "cell_type": "markdown",
   "id": "35560a2a",
   "metadata": {},
   "source": [
    "### Specify the directory path containing the sub-folders of analysed image metadata to batch analyse:"
   ]
  },
  {
   "cell_type": "code",
   "execution_count": 9,
   "id": "634094cf",
   "metadata": {},
   "outputs": [],
   "source": [
    "img_library=\"\\\\\\\\cmvm.datastore.ed.ac.uk\\\\igmm\\\\iadams-lab\\\\Meiosis Plugin Paper\\\\Methods in Molecular Biology - Meiosis image analysis\\\\Figures\\\\SIM test data\""
   ]
  },
  {
   "cell_type": "markdown",
   "id": "2567aacf",
   "metadata": {},
   "source": [
    "### Also decide how many times you want the foci to be shuffled:"
   ]
  },
  {
   "cell_type": "code",
   "execution_count": 10,
   "id": "e004ed5d",
   "metadata": {},
   "outputs": [],
   "source": [
    "shuffles=100"
   ]
  },
  {
   "cell_type": "markdown",
   "id": "6f72bb96",
   "metadata": {},
   "source": [
    "### Specify Identities:\n",
    "Specify the name given to the segmented focal labemap and axial mask you wish to analyse. \n",
    "Also specify the channel number containing the focal images in the original stack image.**NB. Use channel numbering as in Fiji i.e. first channel is channel 1. This will be corrected for Python numbering later**"
   ]
  },
  {
   "cell_type": "code",
   "execution_count": 11,
   "id": "e57405ac",
   "metadata": {},
   "outputs": [],
   "source": [
    "Label_1=\"RAD51.tif\"#foci labelmap file containing the segmented foci to measure to\n",
    "Label_1_Channel=2\n",
    "Label_1_name=\"RAD51\"#used in output file naming\n",
    "\n",
    "Label_2=\"SYCE2.tif\"#foci labelmap file containing the segmented foci to shuffle and measure from\n",
    "Label_2_Channel=4\n",
    "Label_2_name=\"SYCE2\"#used in output file naming\n",
    "\n",
    "axes_mask=\"Axes_Mask.tif\"\n"
   ]
  },
  {
   "cell_type": "code",
   "execution_count": 12,
   "id": "2f99e8a7",
   "metadata": {},
   "outputs": [],
   "source": [
    "#Correcting the channel numbering for Python\n",
    "Label_1_Channel_Corrected=Label_1_Channel-1\n",
    "Label_2_Channel_Corrected=Label_2_Channel-1"
   ]
  },
  {
   "cell_type": "markdown",
   "id": "4e56ca01",
   "metadata": {},
   "source": [
    "### Foci included in analysis are filtered by area measured in pixels. Inspect your images to determine reasonable limits for these parameters:"
   ]
  },
  {
   "cell_type": "code",
   "execution_count": 13,
   "id": "72b69f84",
   "metadata": {},
   "outputs": [],
   "source": [
    "Label_1_area_min=5\n",
    "Label_1_area_max=100\n",
    "\n",
    "Label_2_area_min=5\n",
    "Label_2_area_max=150"
   ]
  },
  {
   "cell_type": "markdown",
   "id": "eb817cde",
   "metadata": {},
   "source": [
    "### Run shuffling:"
   ]
  },
  {
   "cell_type": "code",
   "execution_count": null,
   "id": "f655b6ef",
   "metadata": {
    "scrolled": true
   },
   "outputs": [],
   "source": [
    "import os\n",
    "import pandas as pd\n",
    "import Shuffling\n",
    "from skimage import io\n",
    "from timeit import default_timer\n",
    "\n",
    "#Loop through the folders of image metadata\n",
    "Folders=next(os.walk(img_library))[1]\n",
    "for Folder in Folders:\n",
    "    start = default_timer()\n",
    "    Folder_Path=img_library+\"\\\\\"+Folder+\"\\\\\"\n",
    "    \n",
    "    #Only process if the necessary files are present in an image metadata folder\n",
    "    nucleus_found=any(\"Nuclear_Mask.tif\" in file for file in os.listdir(Folder_Path))\n",
    "    axes_found=any(axes_mask in file for file in os.listdir(Folder_Path))\n",
    "    Label1_found=any(Label_1 in file for file in os.listdir(Folder_Path))\n",
    "    Label2_found=any(Label_2 in file for file in os.listdir(Folder_Path))\n",
    "    if (nucleus_found & axes_found & Label1_found & Label2_found):\n",
    "        nuclear_mask_path=Folder_Path+\"Nuclear_Mask.tif\"\n",
    "        axis_mask_path=Folder_Path+axes_mask\n",
    "        Label_1_path=Folder_Path+Label_1\n",
    "        Label_2_path=Folder_Path+Label_2\n",
    "        #Open label and mask images\n",
    "        Label1=io.imread(Label_1_path)\n",
    "        Label2=io.imread(Label_2_path)\n",
    "        Mask=io.imread(axis_mask_path)\n",
    "        #Open intensity images\n",
    "        img=Folder.replace(\"_Output\", \"\")\n",
    "        Image_Path=img_library+\"\\\\\"+img+\".tif\"\n",
    "        img_file=io.imread(Image_Path)\n",
    "        Label1_intensity=img_file[:,:,Label_1_Channel_Corrected]\n",
    "        Label2_intensity=img_file[:,:,Label_2_Channel_Corrected]\n",
    "        \n",
    "        Shuffled_cenrtoid_distances, Original_centroid_distances, Original_weighted_centroid_distances, Selected_Label_1, Selected_Label_2,New_Label_2=Shuffling.Axial_Shuffle(Mask, Label1, Label2, Label1_intensity, Label2_intensity, Label_1_area_min, Label_1_area_max, Label_2_area_min, Label_2_area_max, shuffles)\n",
    "\n",
    "        #Save output\n",
    "        Shuffled_cenrtoid_distances.to_csv(Folder_Path+\"\\\\Axis_shuffled_\"+Label_2_name+\"_to_\"+Label_1_name+\".csv\")#Size selected focus distances to axis\n",
    "        Original_centroid_distances.to_csv(Folder_Path+\"\\\\Original_centroid_\"+Label_2_name+\"_to_\"+Label_1_name+\".csv\")#Size selected focus distances to axis\n",
    "        Original_weighted_centroid_distances.to_csv(Folder_Path+\"\\\\Original_weighted_centroid_\"+Label_2_name+\"_to_\"+Label_1_name+\".csv\")#Size selected focus distances to axis\n",
    "        io.imsave(Folder_Path+\"\\\\Size-selected_\"+Label_1_name+\"foci_labelmap.tif\", Selected_Label_1, check_contrast =False)#Focus labelmap image of the size-selected foci included in processing\n",
    "        io.imsave(Folder_Path+\"\\\\Size-selected_\"+Label_2_name+\"foci_labelmap.tif\", Selected_Label_2, check_contrast =False)#Focus labelmap image of the size-selected foci included in processing\n",
    "        io.imsave(Folder_Path+\"\\\\Axis-Shuffled_\"+Label_2_name+\".tif\", New_Label_2, check_contrast =False)#Example image of the shuffled foci in nuclear space\n",
    "\n",
    "        duration = default_timer() - start\n",
    "\n",
    "        print(Folder+\" processed (\"+ str(duration) +\" seconds).\")\n",
    "        "
   ]
  }
 ],
 "metadata": {
  "kernelspec": {
   "display_name": "Python 3 (ipykernel)",
   "language": "python",
   "name": "python3"
  },
  "language_info": {
   "codemirror_mode": {
    "name": "ipython",
    "version": 3
   },
   "file_extension": ".py",
   "mimetype": "text/x-python",
   "name": "python",
   "nbconvert_exporter": "python",
   "pygments_lexer": "ipython3",
   "version": "3.9.13"
  }
 },
 "nbformat": 4,
 "nbformat_minor": 5
}
