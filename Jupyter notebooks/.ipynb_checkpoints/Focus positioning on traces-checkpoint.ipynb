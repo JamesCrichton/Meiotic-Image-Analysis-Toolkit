{
 "cells": [
  {
   "cell_type": "markdown",
   "id": "40b9732e",
   "metadata": {},
   "source": [
    "# Calculating focus positioning on traced chromosome axes\n",
    "\n",
    "### Data:\n",
    "\n",
    "Users must first have segment axial foci to create a labelmap, using the segmentation macro, and traced chromosome axes using the SNT plugin, producing a \".traces\" file. \n",
    "\n",
    "\n",
    "### Downloads: \n",
    "\n",
    "Go to https://github.com/huangziwei/TracePy and clone this repository. You can simply select \"Code\", \"Download ZIP\", and after downloading, extract these files\n",
    "\n",
    "\n",
    "### Specify package locations:\n",
    "\n",
    "Set the paths below to the directories where you saved the TracePy and meiosis_toolkit packages. \n",
    "\n",
    "Run the code in the cell below by selecting it and pressing \"Ctrl\"+ENTER (do the same to run subsequent cells)"
   ]
  },
  {
   "cell_type": "code",
   "execution_count": 1,
   "id": "c7a7e6fe",
   "metadata": {
    "scrolled": true
   },
   "outputs": [],
   "source": [
    "TracePy_path= \"C:\\\\Users\\\\jcc234\\\\Downloads\\\\TracePy-master\\\\TracePy-master\"\n",
    "Meio_toolkit_path=\"Z:\\\\Meiosis Plugin Paper\\Methods in Molecular Biology - Meiosis image analysis\\\\Code for GitHub\\\\Python tools\\\\meiosis_toolkit\""
   ]
  },
  {
   "cell_type": "markdown",
   "id": "e36c207e",
   "metadata": {},
   "source": [
    "## Add package addresses to the environment"
   ]
  },
  {
   "cell_type": "code",
   "execution_count": 2,
   "id": "eeaeabaa",
   "metadata": {},
   "outputs": [],
   "source": [
    "import sys\n",
    "sys.path.append(TracePy_path)\n",
    "sys.path.append(Meio_toolkit_path)"
   ]
  },
  {
   "cell_type": "markdown",
   "id": "e50cf7c7",
   "metadata": {},
   "source": [
    "## Set directory containing the subfolders of necessary image metadata i.e. .traces file and axial focus  labelmap. These will be batch analysed:"
   ]
  },
  {
   "cell_type": "code",
   "execution_count": 3,
   "id": "55c3b0ca",
   "metadata": {},
   "outputs": [],
   "source": [
    "img_library=\"Z:\\\\Meiosis Plugin Paper\\\\Methods in Molecular Biology - Meiosis image analysis\\\\Figures\\\\Example Image Folder\""
   ]
  },
  {
   "cell_type": "markdown",
   "id": "828ddc2e",
   "metadata": {},
   "source": [
    "## Specify the foci csv file to use\n",
    "This should be genrated with the naming format: foci_name_measurements_to_axis_name.csv"
   ]
  },
  {
   "cell_type": "code",
   "execution_count": 5,
   "id": "d9bfb0e6",
   "metadata": {},
   "outputs": [],
   "source": [
    "Foci_data=\"Watershed_Foci_measurements_to_Axes_Mask.csv\""
   ]
  },
  {
   "cell_type": "markdown",
   "id": "d96998f6",
   "metadata": {},
   "source": [
    "## Run poisition measurement:"
   ]
  },
  {
   "cell_type": "code",
   "execution_count": 8,
   "id": "712bd00c",
   "metadata": {
    "scrolled": true
   },
   "outputs": [],
   "source": [
    "import os\n",
    "import Focus_position_on_axes_1D \n",
    "import fnmatch\n",
    "\n",
    "Folders=next(os.walk(img_library))[1]\n",
    "\n",
    "for Folder in Folders:\n",
    "    Folder_Path=img_library+\"/\"+Folder+\"/\"\n",
    "    trace_found=0\n",
    "    foci_data_found=0\n",
    "\n",
    "    #Find the .traces file and focus data for an image in its metadata folder\n",
    "    #Only proceed if both are found \n",
    "    for file in os.listdir(Folder_Path):\n",
    "        if fnmatch.fnmatch(file,'*.traces'):\n",
    "            trace_found=1\n",
    "            trace_path=Folder_Path+file\n",
    "        if fnmatch.fnmatch(file,Foci_data):\n",
    "            foci_data_found=1\n",
    "            foci_path=Folder_Path+\"\\\\\"+Foci_data\n",
    "        if (foci_data_found & trace_found):\n",
    "            trace_df, Focus_Info=Focus_position_on_axes_1D.Focus_Position_on_Trace(trace_path, foci_path)\n",
    "                                  \n",
    "            trace_df[\"Image\"]=Folder#Add the codename to entries in this file. Will help later if concatenating \n",
    "            trace_df.to_csv(Folder_Path+\"/Axis_Trace_Measurements.csv\")\n",
    "            name=Foci_data.replace(\".csv\",\"\")\n",
    "            Focus_Info.to_csv(Folder_Path+\"\\\\\"+name+\"_and_positioning.csv\")\n",
    "\n",
    "        "
   ]
  }
 ],
 "metadata": {
  "kernelspec": {
   "display_name": "Python 3 (ipykernel)",
   "language": "python",
   "name": "python3"
  },
  "language_info": {
   "codemirror_mode": {
    "name": "ipython",
    "version": 3
   },
   "file_extension": ".py",
   "mimetype": "text/x-python",
   "name": "python",
   "nbconvert_exporter": "python",
   "pygments_lexer": "ipython3",
   "version": "3.9.13"
  },
  "vscode": {
   "interpreter": {
    "hash": "e12cc88dcd69d51033ccc833daae24c6b5bff45020a9a6bd24c77521fb9b43fa"
   }
  }
 },
 "nbformat": 4,
 "nbformat_minor": 5
}
