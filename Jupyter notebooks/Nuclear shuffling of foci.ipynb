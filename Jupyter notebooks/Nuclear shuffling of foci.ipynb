{
 "cells": [
  {
   "cell_type": "markdown",
   "id": "835adf11",
   "metadata": {},
   "source": [
    "# Nuclear shuffling of foci\n",
    "\n",
    "To determine whether foci are genuinely associated with the chromosome axes it can be informative to artificially shuffle segmented foci around the nuclear space and compare the obesrved and randomly-dirstibuted levels of axial colocalisation/proximity. \n",
    "\n",
    "\n",
    "## Data:\n",
    "Signal must have been segmented using the segmentation ImageJ macro to generate \"Nuclear_Mask\" files as well as foci labelmaps and axial masks for which users have assigned names. \n",
    "\n",
    "\n",
    "## Load dependencies:\n",
    "\n",
    "Install and load the packages used by this program, by setting the paths below to the directories where you saved the meiosis_toolkit packages. \n"
   ]
  },
  {
   "cell_type": "code",
   "execution_count": 16,
   "id": "f9f76a9d",
   "metadata": {},
   "outputs": [],
   "source": [
    "Meio_toolkit_path=\"Z:\\\\Meiosis Plugin Paper\\Methods in Molecular Biology - Meiosis image analysis\\\\Code for GitHub\\\\Python tools\\\\meiosis_toolkit\""
   ]
  },
  {
   "cell_type": "code",
   "execution_count": 1,
   "id": "db1fca0e",
   "metadata": {},
   "outputs": [],
   "source": [
    "import sys\n",
    "sys.path.append(Meio_toolkit_path)"
   ]
  },
  {
   "cell_type": "markdown",
   "id": "310aa8a2",
   "metadata": {},
   "source": [
    "### Specify the directory path containing the sub-folders of analysed image metadata to batch analyse:"
   ]
  },
  {
   "cell_type": "code",
   "execution_count": 41,
   "id": "ad3c2a7d",
   "metadata": {},
   "outputs": [],
   "source": [
    "# img_library=\"Z:\\\\Meiosis Plugin Paper\\\\Methods in Molecular Biology - Meiosis image analysis\\\\Code\\\\Sample_Image\"\n",
    "# img_library=\"Z:\\\\Meiosis Plugin Paper\\\\Methods in Molecular Biology - Meiosis image analysis\\\\Code for GitHub\\\\Segmentation sample image\"\n",
    "img_library=\"\\\\\\\\cmvm.datastore.ed.ac.uk\\\\igmm\\iadams-lab\\\\Meiosis Plugin Paper\\\\Methods in Molecular Biology - Meiosis image analysis\\\\Figures\\\\Example Image Folder\""
   ]
  },
  {
   "cell_type": "markdown",
   "id": "d02b50c9",
   "metadata": {},
   "source": [
    "### Foci included in analysis are filtered by area measured in pixels. Inspect your images to determine reasonable limits for these parameters:"
   ]
  },
  {
   "cell_type": "code",
   "execution_count": 40,
   "id": "24d3a709",
   "metadata": {},
   "outputs": [],
   "source": [
    "area_min=3\n",
    "area_max=100"
   ]
  },
  {
   "cell_type": "markdown",
   "id": "eb8379f3",
   "metadata": {},
   "source": [
    "### Also decide how many times you want the foci to be shuffled:"
   ]
  },
  {
   "cell_type": "code",
   "execution_count": 38,
   "id": "c773bf3e",
   "metadata": {},
   "outputs": [],
   "source": [
    "shuffles=100"
   ]
  },
  {
   "cell_type": "markdown",
   "id": "6c6dbea2",
   "metadata": {},
   "source": [
    "### Specify the name given to the segmented focal labemap and axial mask you wish to analyse. "
   ]
  },
  {
   "cell_type": "code",
   "execution_count": 39,
   "id": "9430fd12",
   "metadata": {},
   "outputs": [],
   "source": [
    "foci_labelmap=\"Watershed_Foci.tif\"\n",
    "axes_mask=\"Axes_Mask.tif\""
   ]
  },
  {
   "cell_type": "markdown",
   "id": "8f8fabc0",
   "metadata": {},
   "source": [
    "### Run shuffling:"
   ]
  },
  {
   "cell_type": "code",
   "execution_count": 42,
   "id": "13c3e8c2",
   "metadata": {},
   "outputs": [
    {
     "name": "stdout",
     "output_type": "stream",
     "text": [
      "Example_Pachytene_DAPI_RPA_SYCP3_Output processed\n"
     ]
    }
   ],
   "source": [
    "import os\n",
    "import pandas as pd\n",
    "from skimage import io\n",
    "import fnmatch\n",
    "import Shuffling\n",
    "\n",
    "Folders=next(os.walk(img_library))[1]\n",
    "for Folder in Folders:\n",
    "    Folder_Path=img_library+\"\\\\\"+Folder+\"\\\\\"\n",
    "    #Only proceed if necessary files are present\n",
    "    nucleus_found=any(\"Nuclear_Mask.tif\" in file for file in os.listdir(Folder_Path))\n",
    "    axes_found=any(axes_mask in file for file in os.listdir(Folder_Path))\n",
    "    foci_found=any(foci_labelmap in file for file in os.listdir(Folder_Path))\n",
    "    if (nucleus_found & axes_found & foci_found):\n",
    "        Observed_Distance_to_Axis, Shuffled_Distance_to_Axis, Foci_Size_Selected_Img, Shuffled_Foci_Img=Shuffling.Whole_Nuclear_Shuffle(nuclear_mask_path,axis_mask_path,foci_path,area_min,area_max, shuffles)\n",
    "\n",
    "        #Save output\n",
    "        Observed_Distance_to_Axis.to_csv(Folder_Path+\"\\\\Observed_Distance_to_Axis.csv\")#Size selected focus distances to axis\n",
    "        Shuffled_Distance_to_Axis.to_csv(Folder_Path+\"\\\\Shuffled_Distance_to_Axis.csv\")#Shuffled focus distances to axis\n",
    "        io.imsave(Folder_Path+\"\\\\Size-selected_foci_labelmap.tif\", Foci_Size_Selected_Img, check_contrast =False)#Focus labelmap image of the size-selected foci included in processing\n",
    "        io.imsave(Folder_Path+\"\\\\Shuffled_foci_labelmap.tif\", Shuffled_Foci_Img, check_contrast =False)#Example image of the shuffled foci in nuclear space\n",
    "\n",
    "        print(Folder+\" processed\")\n"
   ]
  },
  {
   "cell_type": "markdown",
   "id": "85e8333d",
   "metadata": {},
   "source": [
    "### Users may need to update tifffile to avoid <font color='red'> \"TiffPage 0: TypeError: read_bytes() missing 3 required positional arguments: 'dtype', 'count', and 'offsetsize'\" </font> error message:"
   ]
  },
  {
   "cell_type": "code",
   "execution_count": 8,
   "id": "fef9cff7",
   "metadata": {
    "scrolled": false
   },
   "outputs": [
    {
     "name": "stdout",
     "output_type": "stream",
     "text": [
      "Requirement already satisfied: tifffile in c:\\users\\jcc234\\anaconda3\\lib\\site-packages (2023.2.28)\n",
      "Collecting tifffile\n",
      "  Downloading tifffile-2023.3.21-py3-none-any.whl (218 kB)\n",
      "     -------------------------------------- 218.7/218.7 kB 1.5 MB/s eta 0:00:00\n",
      "Requirement already satisfied: numpy in c:\\users\\jcc234\\anaconda3\\lib\\site-packages (from tifffile) (1.21.5)\n",
      "Installing collected packages: tifffile\n",
      "  Attempting uninstall: tifffile\n",
      "    Found existing installation: tifffile 2023.2.28\n",
      "    Uninstalling tifffile-2023.2.28:\n",
      "      Successfully uninstalled tifffile-2023.2.28\n",
      "Successfully installed tifffile-2023.3.21\n",
      "Note: you may need to restart the kernel to use updated packages.\n"
     ]
    }
   ],
   "source": [
    "pip install --upgrade tifffile"
   ]
  }
 ],
 "metadata": {
  "kernelspec": {
   "display_name": "Python 3 (ipykernel)",
   "language": "python",
   "name": "python3"
  },
  "language_info": {
   "codemirror_mode": {
    "name": "ipython",
    "version": 3
   },
   "file_extension": ".py",
   "mimetype": "text/x-python",
   "name": "python",
   "nbconvert_exporter": "python",
   "pygments_lexer": "ipython3",
   "version": "3.9.13"
  }
 },
 "nbformat": 4,
 "nbformat_minor": 5
}
