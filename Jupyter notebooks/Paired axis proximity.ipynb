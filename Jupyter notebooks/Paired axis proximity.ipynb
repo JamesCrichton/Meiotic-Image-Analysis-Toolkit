{
 "cells": [
  {
   "cell_type": "markdown",
   "id": "45c08fa4",
   "metadata": {},
   "source": [
    "# Quantifying the proximity of paired axes\n",
    "\n",
    "### Data:\n",
    "\n",
    "Users must have first traced axes in their images, renaming the traces with a number shared by both in a pair, and a letter unique to each e.g. \"1a\" and \"1b\" for two paired chromosomes. Isolated traces can be included, and information regarding positions along the axis will be calculated, however distances to a partner will not. \n",
    "\n",
    "Trace files must be saved in the image metadata folder in the .traces format.\n",
    "\n",
    "### Downloads: \n",
    "\n",
    "Go to https://github.com/huangziwei/TracePy and clone this repository. You can simply select \"Code\", \"Download ZIP\", and after downloading, extract these files\n",
    "\n",
    "\n",
    "### Specify package locations:\n",
    "\n",
    "Set the paths below to the directories where you saved the TracePy and meiosis_toolkit packages. \n",
    "\n",
    "Run the code in the cell below by selecting it and pressing \"Ctrl\"+ENTER (do the same to run subsequent cells)"
   ]
  },
  {
   "cell_type": "code",
   "execution_count": 1,
   "id": "a627c080",
   "metadata": {},
   "outputs": [],
   "source": [
    "TracePy_path= \"C:/Users/jcc234/Downloads/TracePy-master/TracePy-master\"\n",
    "Meio_toolkit_path=\"C:/Users/jcc234/OneDrive - University of Exeter/Desktop/Code for GitHub/Meiotic-Image-Analysis-Toolkit/Python tools\""
   ]
  },
  {
   "cell_type": "markdown",
   "id": "fa2efca8",
   "metadata": {},
   "source": [
    "### Add package addresses to the environment"
   ]
  },
  {
   "cell_type": "code",
   "execution_count": 2,
   "id": "4487f25a",
   "metadata": {},
   "outputs": [],
   "source": [
    "import sys\n",
    "sys.path.append(TracePy_path)\n",
    "sys.path.append(Meio_toolkit_path)"
   ]
  },
  {
   "cell_type": "markdown",
   "id": "a546c161",
   "metadata": {},
   "source": [
    "### Set directory containing the subfolders of necessary image metadata i.e. .traces file. These will be batch analysed:"
   ]
  },
  {
   "cell_type": "code",
   "execution_count": 3,
   "id": "fa9ed422",
   "metadata": {},
   "outputs": [],
   "source": [
    "img_library=\"C:/Users/jcc234/OneDrive - University of Exeter/Desktop/Code for GitHub/Meiotic-Image-Analysis-Toolkit/SIM sample data\""
   ]
  },
  {
   "cell_type": "markdown",
   "id": "a6dacce0",
   "metadata": {},
   "source": [
    "### Run paired axis proximity quantification\n",
    "This will produce and \"Axis_Trace_Measurements.csv\" file in the image metadata folder. "
   ]
  },
  {
   "cell_type": "code",
   "execution_count": 6,
   "id": "07ac31fc",
   "metadata": {},
   "outputs": [],
   "source": [
    "import os\n",
    "import meiosis_toolkit as meio \n",
    "import fnmatch\n",
    "\n",
    "Folders=next(os.walk(img_library))[1]\n",
    "\n",
    "for Folder in Folders:\n",
    "    Folder_Path=img_library+\"/\"+Folder+\"/\"\n",
    "    trace_found=0\n",
    "    foci_data_found=0\n",
    "\n",
    "    #Only proceed if .traces file present for an image in its metadata folder\n",
    "    for file in os.listdir(Folder_Path):\n",
    "        if fnmatch.fnmatch(file,'*.traces'):\n",
    "            trace_found=1\n",
    "            trace_path=Folder_Path+file\n",
    "            trace_df=meio.Axis_Proximity(trace_path)\n",
    "                                  \n",
    "            trace_df[\"Image\"]=Folder#Add the codename to entries in this file. Will help later if concatenating \n",
    "            trace_df.to_csv(Folder_Path+\"/Axis_Trace_Measurements.csv\")       \n",
    "        "
   ]
  }
 ],
 "metadata": {
  "kernelspec": {
   "display_name": "Python 3 (ipykernel)",
   "language": "python",
   "name": "python3"
  },
  "language_info": {
   "codemirror_mode": {
    "name": "ipython",
    "version": 3
   },
   "file_extension": ".py",
   "mimetype": "text/x-python",
   "name": "python",
   "nbconvert_exporter": "python",
   "pygments_lexer": "ipython3",
   "version": "3.9.13"
  }
 },
 "nbformat": 4,
 "nbformat_minor": 5
}
